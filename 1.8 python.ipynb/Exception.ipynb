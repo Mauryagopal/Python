{
 "cells": [
  {
   "cell_type": "markdown",
   "metadata": {},
   "source": [
    "#### Understanding Exceptions\n",
    "\n",
    "Exception handling in pyhton allows you to handle errors garcefully and take corrective actions without stopping the execution of the program .This lesson will cover the basic exception ,incluing how to use try ,except else and finally blocks."
   ]
  },
  {
   "cell_type": "markdown",
   "metadata": {},
   "source": [
    "#### What are Exceptions ?\n",
    "\n",
    "Exceptions are events that disrupt the normal flow of a program .They occur when an error is encountered during program execution .common exception inlcude:\n",
    "- ZeroDivision error :dividing by zero.\n",
    "- File Not Found Error : file not found.\n",
    "- Value Error :invalid value\n",
    "- Type Error : Invalid type\n"
   ]
  },
  {
   "cell_type": "code",
   "execution_count": 3,
   "metadata": {},
   "outputs": [
    {
     "name": "stdout",
     "output_type": "stream",
     "text": [
      "The Variable is not assigned \n"
     ]
    }
   ],
   "source": [
    "## Exception try , except block \n",
    "try:\n",
    "    a=b\n",
    "except:\n",
    "    print(\"The Variable is not assigned \")    \n",
    "    \n"
   ]
  },
  {
   "cell_type": "code",
   "execution_count": 4,
   "metadata": {},
   "outputs": [
    {
     "name": "stdout",
     "output_type": "stream",
     "text": [
      "name 'b' is not defined\n"
     ]
    }
   ],
   "source": [
    "try:\n",
    "    a=b\n",
    "except NameError as ex:\n",
    "    print(ex) "
   ]
  },
  {
   "cell_type": "code",
   "execution_count": 10,
   "metadata": {},
   "outputs": [
    {
     "ename": "ZeroDivisionError",
     "evalue": "division by zero",
     "output_type": "error",
     "traceback": [
      "\u001b[1;31m---------------------------------------------------------------------------\u001b[0m",
      "\u001b[1;31mZeroDivisionError\u001b[0m                         Traceback (most recent call last)",
      "Cell \u001b[1;32mIn[10], line 1\u001b[0m\n\u001b[1;32m----> 1\u001b[0m result\u001b[38;5;241m=\u001b[39m\u001b[38;5;241;43m1\u001b[39;49m\u001b[38;5;241;43m/\u001b[39;49m\u001b[38;5;241;43m0\u001b[39;49m\n",
      "\u001b[1;31mZeroDivisionError\u001b[0m: division by zero"
     ]
    }
   ],
   "source": [
    "\n",
    "result=1/0"
   ]
  },
  {
   "cell_type": "code",
   "execution_count": null,
   "metadata": {},
   "outputs": [
    {
     "name": "stdout",
     "output_type": "stream",
     "text": [
      "Please enter the denomintor greater than 0\n"
     ]
    }
   ],
   "source": [
    "try:\n",
    "    result=1/0\n",
    "except:\n",
    "    print(\"Please enter the denomintor greater than 0\")    "
   ]
  },
  {
   "cell_type": "code",
   "execution_count": 15,
   "metadata": {},
   "outputs": [
    {
     "name": "stdout",
     "output_type": "stream",
     "text": [
      "name 'b' is not defined\n",
      "Main exception get caught here\n"
     ]
    }
   ],
   "source": [
    "try:\n",
    "    result=1/2\n",
    "    a=b\n",
    "except ZeroDivisionError as ex:\n",
    "    print(ex)\n",
    "    print(\"Please enter the denomintor greater than 0\")    \n",
    "except Exception as ex1:\n",
    "    print(ex1)    \n",
    "    print(\"Main exception get caught here\")"
   ]
  },
  {
   "cell_type": "code",
   "execution_count": 19,
   "metadata": {},
   "outputs": [
    {
     "name": "stdout",
     "output_type": "stream",
     "text": [
      "This not a valid number\n"
     ]
    }
   ],
   "source": [
    "try:\n",
    "    num=int(input(\"Enter the number\"))\n",
    "    result=10/num\n",
    "except ValueError:\n",
    "    print(\"This not a valid number\")\n",
    "except ZeroDivisionError:\n",
    "    print(\"Enter denominator greater than zero\")        \n",
    "except Exception as ex:\n",
    "    print(ex)    "
   ]
  },
  {
   "cell_type": "code",
   "execution_count": 21,
   "metadata": {},
   "outputs": [
    {
     "name": "stdout",
     "output_type": "stream",
     "text": [
      "Enter denominator greater than zero\n"
     ]
    }
   ],
   "source": [
    "## try, except , else block\n",
    "try:\n",
    "    num=int(input(\"Enter the number :\"))\n",
    "    result=10/num\n",
    "except ValueError:\n",
    "    print(\"This not a valid number\")\n",
    "except ZeroDivisionError:\n",
    "    print(\"Enter denominator greater than zero\")        \n",
    "except Exception as ex:\n",
    "    print(ex)    \n",
    "else:\n",
    "    print(f'The result is {result}')    "
   ]
  },
  {
   "cell_type": "code",
   "execution_count": 23,
   "metadata": {},
   "outputs": [
    {
     "name": "stdout",
     "output_type": "stream",
     "text": [
      "The result is 0.8333333333333334\n",
      "Excution complete\n"
     ]
    }
   ],
   "source": [
    "## try , except ,else and finally\n",
    "try:\n",
    "    num=int(input(\"Enter the number :\"))\n",
    "    result=10/num\n",
    "except ValueError:\n",
    "    print(\"This not a valid number\")\n",
    "except ZeroDivisionError:\n",
    "    print(\"Enter denominator greater than zero\")        \n",
    "except Exception as ex:\n",
    "    print(ex)    \n",
    "else:\n",
    "    print(f'The result is {result}') \n",
    "finally:\n",
    "    print(\"Excution complete\")    \n"
   ]
  },
  {
   "cell_type": "code",
   "execution_count": null,
   "metadata": {},
   "outputs": [],
   "source": []
  }
 ],
 "metadata": {
  "kernelspec": {
   "display_name": "venv",
   "language": "python",
   "name": "python3"
  },
  "language_info": {
   "codemirror_mode": {
    "name": "ipython",
    "version": 3
   },
   "file_extension": ".py",
   "mimetype": "text/x-python",
   "name": "python",
   "nbconvert_exporter": "python",
   "pygments_lexer": "ipython3",
   "version": "3.12.5"
  }
 },
 "nbformat": 4,
 "nbformat_minor": 2
}
