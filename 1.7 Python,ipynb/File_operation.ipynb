{
 "cells": [
  {
   "cell_type": "markdown",
   "metadata": {},
   "source": [
    "#### File Opreations - Read And Write Filles\n",
    "\n",
    "File handling is a crucial part of any programming language .Python provides built-in functions and menthods to read from and write to files ,both text and binary .\n",
    "\n"
   ]
  },
  {
   "cell_type": "code",
   "execution_count": 2,
   "metadata": {},
   "outputs": [
    {
     "name": "stdout",
     "output_type": "stream",
     "text": [
      "Hello How are you ?\n",
      "I am good.\n",
      "what about you ?\n",
      "I am also good.\n",
      "\n"
     ]
    }
   ],
   "source": [
    "### Read the whole file \n",
    "\n",
    "with open('example.txt','r') as file:\n",
    "    content=file.read()\n",
    "    print(content)\n",
    "        "
   ]
  },
  {
   "cell_type": "code",
   "execution_count": 4,
   "metadata": {},
   "outputs": [
    {
     "name": "stdout",
     "output_type": "stream",
     "text": [
      "Hello How are you ?\n",
      "I am good.\n",
      "what about you ?\n",
      "I am also good.\n"
     ]
    }
   ],
   "source": [
    "## read a file line by line\n",
    "with open ('example.txt','r') as file:\n",
    "    for line in file:\n",
    "        print(line.strip())   ## Strip( ) removes the newine character \n",
    "        "
   ]
  },
  {
   "cell_type": "code",
   "execution_count": 6,
   "metadata": {},
   "outputs": [],
   "source": [
    "## Writing a file (Overwriting)\n",
    "with open('example.txt','w') as file:\n",
    "    file.write('Hello world! \\n')\n",
    "    file.write('this a new line')"
   ]
  },
  {
   "cell_type": "code",
   "execution_count": 11,
   "metadata": {},
   "outputs": [],
   "source": [
    "## write a file without over writing \n",
    "with open('example.txt','a') as file:\n",
    "    file.write(\" Append operation taking place !\\n\")"
   ]
  },
  {
   "cell_type": "code",
   "execution_count": 1,
   "metadata": {},
   "outputs": [],
   "source": [
    "with open('example.txt','a') as file:\n",
    "    file.write(\" Append operation taking place !\\n\")"
   ]
  },
  {
   "cell_type": "code",
   "execution_count": 4,
   "metadata": {},
   "outputs": [],
   "source": [
    "## Writing a list of lines to a file \n",
    "lines=['First line \\n','second line \\n','third line\\n']\n",
    "with open('example.txt','a') as file:\n",
    "    file.writelines(lines)"
   ]
  },
  {
   "cell_type": "code",
   "execution_count": 6,
   "metadata": {},
   "outputs": [],
   "source": [
    "## Binary Files\n",
    "\n",
    "\n",
    "## Writing to a binary file\n",
    "data=b'\\x00\\x01\\x02\\x03\\x04'\n",
    "with open ('example.bin','wb') as file:\n",
    "    file.write(data)"
   ]
  },
  {
   "cell_type": "code",
   "execution_count": 7,
   "metadata": {},
   "outputs": [
    {
     "name": "stdout",
     "output_type": "stream",
     "text": [
      "b'\\x00\\x01\\x02\\x03\\x04'\n"
     ]
    }
   ],
   "source": [
    "## REading the Binary file\n",
    "with open('example.bin','rb') as file:\n",
    "    content=file.read()\n",
    "    print(content)"
   ]
  },
  {
   "cell_type": "code",
   "execution_count": 8,
   "metadata": {},
   "outputs": [],
   "source": [
    "### Read the content from a source text file and write to a destination text file\n",
    "# copying a text file\n",
    "with open('example.txt','r') as source_file:\n",
    "    content=source_file.read()\n",
    "    \n",
    "with open ('destination.txt','w') as destination_file:\n",
    "    destination_file.write(content)    "
   ]
  },
  {
   "cell_type": "code",
   "execution_count": 13,
   "metadata": {},
   "outputs": [
    {
     "name": "stdout",
     "output_type": "stream",
     "text": [
      "Lines: 7, Words: 21, Characters: 133\n"
     ]
    }
   ],
   "source": [
    "def count_text_files(file_path):\n",
    "    with open(file_path, 'r') as file:\n",
    "        lines = file.readlines()  # Read all lines from the file\n",
    "        line_count = len(lines)  # Count the number of lines\n",
    "        word_count = sum(len(line.split()) for line in lines)  # Count the words\n",
    "        char_count = sum(len(line) for line in lines)  # Count the characters\n",
    "    return line_count, word_count, char_count\n",
    "\n",
    "file_path = 'example.txt'  # Path to your text file\n",
    "lines, words, characters = count_text_files(file_path)\n",
    "print(f'Lines: {lines}, Words: {words}, Characters: {characters}')\n"
   ]
  },
  {
   "cell_type": "markdown",
   "metadata": {},
   "source": [
    "The w+ mode in python is used to open a file for both reading and writing . If file does not exist ,it will be created if the files exists,its content is truncated (i.e. the file is overwritten)"
   ]
  },
  {
   "cell_type": "code",
   "execution_count": 19,
   "metadata": {},
   "outputs": [
    {
     "name": "stdout",
     "output_type": "stream",
     "text": [
      "Hello World \n",
      "This is new line \n",
      "\n"
     ]
    }
   ],
   "source": [
    "## Writing and then reading a file\n",
    "with open('example.txt','w+') as file:\n",
    "    file.write(\"Hello World \\n\")\n",
    "    file.write(\"This is new line \\n\")\n",
    "    \n",
    "    ## move the cursor to the beginning\n",
    "    file.seek(0)\n",
    "    \n",
    "    \n",
    "    ## Read the content for the file\n",
    "    content=file.read()\n",
    "    print(content)"
   ]
  },
  {
   "cell_type": "code",
   "execution_count": null,
   "metadata": {},
   "outputs": [],
   "source": []
  }
 ],
 "metadata": {
  "kernelspec": {
   "display_name": "venv",
   "language": "python",
   "name": "python3"
  },
  "language_info": {
   "codemirror_mode": {
    "name": "ipython",
    "version": 3
   },
   "file_extension": ".py",
   "mimetype": "text/x-python",
   "name": "python",
   "nbconvert_exporter": "python",
   "pygments_lexer": "ipython3",
   "version": "3.12.5"
  }
 },
 "nbformat": 4,
 "nbformat_minor": 2
}
