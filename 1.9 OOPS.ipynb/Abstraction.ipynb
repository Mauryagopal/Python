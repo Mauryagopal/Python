{
 "cells": [
  {
   "cell_type": "markdown",
   "metadata": {},
   "source": [
    "#### Abstraction\n",
    "\n",
    "Abstraction is the concept of hiding the complex implemention details and showing only the necessary features of an objects.This helps in reducing programming complexicity and effort."
   ]
  },
  {
   "cell_type": "markdown",
   "metadata": {},
   "source": []
  },
  {
   "cell_type": "code",
   "execution_count": 2,
   "metadata": {},
   "outputs": [
    {
     "name": "stdout",
     "output_type": "stream",
     "text": [
      "Car engine started \n",
      "The vechicle is used for driving\n"
     ]
    }
   ],
   "source": [
    "from abc import ABC,abstractclassmethod\n",
    "\n",
    "## Abstract Base class\n",
    "class Vechicle(ABC):\n",
    "    def drive(self):\n",
    "        print(\"The vechicle is used for driving\")\n",
    "        \n",
    "    @abstractclassmethod\n",
    "    def start_engine(self):\n",
    "        pass\n",
    "    \n",
    "class Car(Vechicle):\n",
    "    def start_engine(self):\n",
    "        print(\"Car engine started \") \n",
    "        \n",
    "def operate_vehicle(vechicle):\n",
    "    vechicle.start_engine()\n",
    "    vechicle.drive()\n",
    "    \n",
    "car=Car()\n",
    "operate_vehicle(car)                   "
   ]
  },
  {
   "cell_type": "code",
   "execution_count": null,
   "metadata": {},
   "outputs": [],
   "source": []
  }
 ],
 "metadata": {
  "kernelspec": {
   "display_name": "venv",
   "language": "python",
   "name": "python3"
  },
  "language_info": {
   "codemirror_mode": {
    "name": "ipython",
    "version": 3
   },
   "file_extension": ".py",
   "mimetype": "text/x-python",
   "name": "python",
   "nbconvert_exporter": "python",
   "pygments_lexer": "ipython3",
   "version": "3.12.5"
  }
 },
 "nbformat": 4,
 "nbformat_minor": 2
}
