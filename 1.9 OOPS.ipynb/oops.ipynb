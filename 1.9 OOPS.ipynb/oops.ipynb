{
 "cells": [
  {
   "cell_type": "markdown",
   "metadata": {},
   "source": [
    "#### Class and Objects\n",
    "\n",
    "Objects-oriented programming (OOP) is a programming paradigm that use \"objects\" to design applicatons and computer program .OOP allows for modeling real-world scenarios using class and objects . "
   ]
  },
  {
   "cell_type": "code",
   "execution_count": 1,
   "metadata": {},
   "outputs": [
    {
     "name": "stdout",
     "output_type": "stream",
     "text": [
      "<class '__main__.car'>\n"
     ]
    }
   ],
   "source": [
    "### A class is a blue print for creating objects .Attributes ,method \n",
    "class car:\n",
    "    pass\n",
    "audi=car()\n",
    "bmw=car()\n",
    "\n",
    "print(type(audi))"
   ]
  },
  {
   "cell_type": "code",
   "execution_count": 3,
   "metadata": {},
   "outputs": [
    {
     "name": "stdout",
     "output_type": "stream",
     "text": [
      "<__main__.car object at 0x000001FC2A8E8EC0>\n",
      "<__main__.car object at 0x000001FC2A8EBF80>\n"
     ]
    }
   ],
   "source": [
    "print(audi)\n",
    "print(bmw)"
   ]
  },
  {
   "cell_type": "code",
   "execution_count": 10,
   "metadata": {},
   "outputs": [
    {
     "name": "stdout",
     "output_type": "stream",
     "text": [
      "<__main__.Dog object at 0x0000028D061C94C0>\n",
      "buddy\n",
      "3\n"
     ]
    }
   ],
   "source": [
    "## Instace varialbe and methods\n",
    "class Dog:\n",
    "    ## constructor \n",
    "    def __init__(self,name,age):\n",
    "        self.name=name\n",
    "        self.age=age\n",
    "## create the objects\n",
    "dog1=Dog(\"buddy\",3)  \n",
    "print(dog1)\n",
    "print(dog1.name)\n",
    "print(dog1.age)"
   ]
  },
  {
   "cell_type": "code",
   "execution_count": 11,
   "metadata": {},
   "outputs": [
    {
     "name": "stdout",
     "output_type": "stream",
     "text": [
      "Lucy\n"
     ]
    }
   ],
   "source": [
    "dog2=Dog(\"Lucy\",4)\n",
    "print(dog2.name)"
   ]
  },
  {
   "cell_type": "code",
   "execution_count": 13,
   "metadata": {},
   "outputs": [
    {
     "name": "stdout",
     "output_type": "stream",
     "text": [
      "buddy say woof\n",
      "Lucy say woof\n"
     ]
    }
   ],
   "source": [
    "## class with a instace method\n",
    "class Dog:\n",
    "    def __init__(self,name,age):\n",
    "        self.name=name\n",
    "        self.age=age\n",
    "    def bark(self):\n",
    "        print(f\"{self.name} say woof\")\n",
    "        \n",
    "dog1=Dog(\"buddy\",3)\n",
    "dog1.bark()  \n",
    "dog2=Dog(\"Lucy\",4) \n",
    "dog2.bark()         "
   ]
  },
  {
   "cell_type": "code",
   "execution_count": 1,
   "metadata": {},
   "outputs": [
    {
     "name": "stdout",
     "output_type": "stream",
     "text": [
      "25000\n",
      "250 is deposited .The new balance is 25250\n",
      "1000 is withdrawn. New  Balance is 24250\n",
      "Insufficent amount\n"
     ]
    }
   ],
   "source": [
    "#### Modeling a bank Account \n",
    "\n",
    "## Define the a class for bank account\n",
    "class BnakAccount:\n",
    "    def __init__(self,owner,balance=0):\n",
    "        self.owner=owner\n",
    "        self.balance=balance\n",
    "        \n",
    "    def deposit(self,amount):\n",
    "        self.balance+=amount\n",
    "        print(f\"{amount} is deposited .The new balance is {self.balance}\")\n",
    "    \n",
    "    def withdraw(self,amount):\n",
    "        if amount>self.balance:\n",
    "            print(\"Insufficent amount\")\n",
    "        else:\n",
    "            self.balance-=amount\n",
    "            print(f\"{amount} is withdrawn. New  Balance is {self.balance}\")\n",
    "    def get_balance(self):\n",
    "        return self.balance  \n",
    "    \n",
    "### create the objects\n",
    "account=BnakAccount(\"Gopal\",25000)\n",
    "print(account.get_balance())    \n",
    "account.deposit(250)     \n",
    "account.withdraw(1000)\n",
    "account.withdraw(26000)  \n",
    "           "
   ]
  },
  {
   "cell_type": "code",
   "execution_count": 19,
   "metadata": {},
   "outputs": [
    {
     "name": "stdout",
     "output_type": "stream",
     "text": [
      "3000 is deposited .The new balance is 27250\n"
     ]
    }
   ],
   "source": [
    "## call instace method \n",
    "account.deposit(3000)"
   ]
  },
  {
   "cell_type": "code",
   "execution_count": 20,
   "metadata": {},
   "outputs": [
    {
     "name": "stdout",
     "output_type": "stream",
     "text": [
      "450 is withdrawn. New  Balance is 26800\n"
     ]
    }
   ],
   "source": [
    "account.withdraw(450)"
   ]
  },
  {
   "cell_type": "code",
   "execution_count": 21,
   "metadata": {},
   "outputs": [
    {
     "name": "stdout",
     "output_type": "stream",
     "text": [
      "26800\n"
     ]
    }
   ],
   "source": [
    "print(account.get_balance())"
   ]
  },
  {
   "cell_type": "code",
   "execution_count": 22,
   "metadata": {},
   "outputs": [
    {
     "name": "stdout",
     "output_type": "stream",
     "text": [
      "Welcome to the Bank Account Management System!\n",
      "\n",
      "Choose an option:\n",
      "1. Deposit\n",
      "2. Withdraw\n",
      "3. Check Balance\n",
      "4. Exit\n",
      "₹250.0 has been deposited. New balance: ₹25250.0\n",
      "\n",
      "Choose an option:\n",
      "1. Deposit\n",
      "2. Withdraw\n",
      "3. Check Balance\n",
      "4. Exit\n",
      "Current balance: ₹25250.0\n",
      "\n",
      "Choose an option:\n",
      "1. Deposit\n",
      "2. Withdraw\n",
      "3. Check Balance\n",
      "4. Exit\n",
      "Thank you for using the Bank Account Management System. Goodbye!\n"
     ]
    }
   ],
   "source": [
    "class BankAccount:\n",
    "    \"\"\"\n",
    "    A simple BankAccount class to manage deposits, withdrawals, and balance checks.\n",
    "    \"\"\"\n",
    "    def __init__(self, owner, balance=0):\n",
    "        \"\"\"\n",
    "        Initialize the account with an owner and an optional balance.\n",
    "        :param owner: str, Name of the account owner\n",
    "        :param balance: float, Initial balance (default is 0)\n",
    "        \"\"\"\n",
    "        self.owner = owner\n",
    "        self.balance = balance\n",
    "\n",
    "    def deposit(self, amount):\n",
    "        \"\"\"\n",
    "        Deposit an amount into the account.\n",
    "        :param amount: float, Amount to deposit\n",
    "        \"\"\"\n",
    "        if amount > 0:\n",
    "            self.balance += amount\n",
    "            print(f\"₹{amount} has been deposited. New balance: ₹{self.balance}\")\n",
    "        else:\n",
    "            print(\"Invalid deposit amount. Please enter a positive number.\")\n",
    "\n",
    "    def withdraw(self, amount):\n",
    "        \"\"\"\n",
    "        Withdraw an amount from the account.\n",
    "        :param amount: float, Amount to withdraw\n",
    "        \"\"\"\n",
    "        if amount > self.balance:\n",
    "            print(\"Insufficient funds.\")\n",
    "        elif amount <= 0:\n",
    "            print(\"Invalid withdrawal amount. Please enter a positive number.\")\n",
    "        else:\n",
    "            self.balance -= amount\n",
    "            print(f\"₹{amount} has been withdrawn. New balance: ₹{self.balance}\")\n",
    "\n",
    "    def get_balance(self):\n",
    "        \"\"\"\n",
    "        Get the current account balance.\n",
    "        :return: float, The account balance\n",
    "        \"\"\"\n",
    "        return self.balance\n",
    "\n",
    "\n",
    "def main():\n",
    "    print(\"Welcome to the Bank Account Management System!\")\n",
    "    \n",
    "    # Get user details\n",
    "    name = input(\"Enter the account owner's name: \")\n",
    "    initial_balance = float(input(\"Enter the initial balance: \"))\n",
    "    \n",
    "    # Create an account\n",
    "    account = BankAccount(name, initial_balance)\n",
    "    \n",
    "    while True:\n",
    "        print(\"\\nChoose an option:\")\n",
    "        print(\"1. Deposit\")\n",
    "        print(\"2. Withdraw\")\n",
    "        print(\"3. Check Balance\")\n",
    "        print(\"4. Exit\")\n",
    "        \n",
    "        choice = input(\"Enter your choice (1-4): \")\n",
    "        \n",
    "        if choice == \"1\":\n",
    "            amount = float(input(\"Enter the amount to deposit: \"))\n",
    "            account.deposit(amount)\n",
    "        elif choice == \"2\":\n",
    "            amount = float(input(\"Enter the amount to withdraw: \"))\n",
    "            account.withdraw(amount)\n",
    "        elif choice == \"3\":\n",
    "            print(f\"Current balance: ₹{account.get_balance()}\")\n",
    "        elif choice == \"4\":\n",
    "            print(\"Thank you for using the Bank Account Management System. Goodbye!\")\n",
    "            break\n",
    "        else:\n",
    "            print(\"Invalid choice. Please try again.\")\n",
    "\n",
    "\n",
    "# Run the program\n",
    "if __name__ == \"__main__\":\n",
    "    main()\n",
    "\n"
   ]
  },
  {
   "cell_type": "code",
   "execution_count": 2,
   "metadata": {},
   "outputs": [
    {
     "name": "stdout",
     "output_type": "stream",
     "text": [
      "woof\n",
      "meow\n"
     ]
    }
   ],
   "source": [
    "## base class \n",
    "class Animal:\n",
    "    def speak(self):\n",
    "        return \"Sound of the animal\"\n",
    "    \n",
    "## Derived class 1  \n",
    "class Dog(Animal):\n",
    "    def speak(self):\n",
    "        return \"woof\"\n",
    "## derived class2\n",
    "class Cat(Animal):\n",
    "    def speak(self):\n",
    "        return \"meow\"\n",
    "    \n",
    "dog=Dog()\n",
    "print(dog.speak())\n",
    "cat=Cat()\n",
    "print(cat.speak()) "
   ]
  },
  {
   "cell_type": "code",
   "execution_count": null,
   "metadata": {},
   "outputs": [],
   "source": []
  }
 ],
 "metadata": {
  "kernelspec": {
   "display_name": "venv",
   "language": "python",
   "name": "python3"
  },
  "language_info": {
   "codemirror_mode": {
    "name": "ipython",
    "version": 3
   },
   "file_extension": ".py",
   "mimetype": "text/x-python",
   "name": "python",
   "nbconvert_exporter": "python",
   "pygments_lexer": "ipython3",
   "version": "3.12.5"
  }
 },
 "nbformat": 4,
 "nbformat_minor": 2
}
