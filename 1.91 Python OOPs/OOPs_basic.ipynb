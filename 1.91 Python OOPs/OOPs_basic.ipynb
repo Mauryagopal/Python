{
 "cells": [
  {
   "cell_type": "code",
   "execution_count": 1,
   "id": "1bf82b89",
   "metadata": {},
   "outputs": [
    {
     "name": "stdout",
     "output_type": "stream",
     "text": [
      "hello ! lets start OOPs\n"
     ]
    }
   ],
   "source": [
    "print(\"hello ! lets start OOPs\")"
   ]
  },
  {
   "cell_type": "code",
   "execution_count": 2,
   "id": "c5fdff37",
   "metadata": {},
   "outputs": [],
   "source": [
    "class Atm:\n",
    "    \n",
    "    \n",
    "    # constructor \n",
    "    def __init__(self):\n",
    "        self.pin=' '\n",
    "        self.balance= 0\n",
    "    "
   ]
  },
  {
   "cell_type": "code",
   "execution_count": 3,
   "id": "b4c62c54",
   "metadata": {},
   "outputs": [],
   "source": [
    "obj= Atm()"
   ]
  },
  {
   "cell_type": "code",
   "execution_count": 4,
   "id": "7a5ae3cf",
   "metadata": {},
   "outputs": [
    {
     "name": "stdout",
     "output_type": "stream",
     "text": [
      "<class '__main__.Atm'>\n"
     ]
    }
   ],
   "source": [
    "print(type(obj))"
   ]
  },
  {
   "cell_type": "code",
   "execution_count": null,
   "id": "c3f16238",
   "metadata": {},
   "outputs": [],
   "source": [
    "obj.balance "
   ]
  }
 ],
 "metadata": {
  "kernelspec": {
   "display_name": "Python 3",
   "language": "python",
   "name": "python3"
  },
  "language_info": {
   "codemirror_mode": {
    "name": "ipython",
    "version": 3
   },
   "file_extension": ".py",
   "mimetype": "text/x-python",
   "name": "python",
   "nbconvert_exporter": "python",
   "pygments_lexer": "ipython3",
   "version": "3.12.5"
  }
 },
 "nbformat": 4,
 "nbformat_minor": 5
}
