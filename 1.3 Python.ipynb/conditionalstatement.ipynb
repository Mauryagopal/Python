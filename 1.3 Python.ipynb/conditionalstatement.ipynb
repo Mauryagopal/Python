{
 "cells": [
  {
   "cell_type": "code",
   "execution_count": 1,
   "metadata": {},
   "outputs": [
    {
     "name": "stdout",
     "output_type": "stream",
     "text": [
      "you can vote\n"
     ]
    }
   ],
   "source": [
    "## if statement\n",
    "age=20\n",
    "if age>=18:\n",
    "    print(\"you can vote\")"
   ]
  },
  {
   "cell_type": "code",
   "execution_count": 2,
   "metadata": {},
   "outputs": [
    {
     "name": "stdout",
     "output_type": "stream",
     "text": [
      "you are young\n"
     ]
    }
   ],
   "source": [
    "age=45\n",
    "if age>50:\n",
    "    print(\"You are old\")\n",
    "else :\n",
    "    print(\"you are young\")    "
   ]
  },
  {
   "cell_type": "code",
   "execution_count": 4,
   "metadata": {},
   "outputs": [
    {
     "name": "stdout",
     "output_type": "stream",
     "text": [
      "You can Vote\n"
     ]
    }
   ],
   "source": [
    "##else \n",
    "age=19\n",
    "if age>=18:\n",
    "    print(\"You can Vote\")\n",
    "else:\n",
    "    print(\"you can not vote\")    "
   ]
  },
  {
   "cell_type": "code",
   "execution_count": 6,
   "metadata": {},
   "outputs": [
    {
     "name": "stdout",
     "output_type": "stream",
     "text": [
      "hey , you are a child\n"
     ]
    }
   ],
   "source": [
    "##elif\n",
    "age=10\n",
    "if age<13:\n",
    "    print(\"hey , you are a child\")\n",
    "elif age<18:\n",
    "    print(\"You are a teenager\")  \n",
    "else:\n",
    "    print(\"you are an adult\")      "
   ]
  },
  {
   "cell_type": "code",
   "execution_count": 7,
   "metadata": {},
   "outputs": [
    {
     "name": "stdout",
     "output_type": "stream",
     "text": [
      "Number is positive\n",
      "Number is an even number\n"
     ]
    }
   ],
   "source": [
    "num=int(input(\"Enter the a number\"))\n",
    "if num>0:\n",
    "    print(\"Number is positive\")\n",
    "    if num%2==0:\n",
    "        print(\"Number is an even number\")\n",
    "    else:\n",
    "        print(\"Number is an odd number\")\n",
    "else:\n",
    "    print(\"numer is zero or neagtive\")            "
   ]
  },
  {
   "cell_type": "code",
   "execution_count": 13,
   "metadata": {},
   "outputs": [],
   "source": [
    "##use cases\n",
    "##determine the  year is a leap year or not\n",
    "year=int(input(\"Enter the year\"))\n",
    "if year%4==0:\n",
    "    if year%100==0:\n",
    "        if year%400==0:\n",
    "            print(\"Year is Leap year\")\n",
    "\n",
    "else:\n",
    "    print(\"Not a leap year\")        "
   ]
  },
  {
   "cell_type": "code",
   "execution_count": null,
   "metadata": {},
   "outputs": [],
   "source": []
  }
 ],
 "metadata": {
  "kernelspec": {
   "display_name": "venv",
   "language": "python",
   "name": "python3"
  },
  "language_info": {
   "codemirror_mode": {
    "name": "ipython",
    "version": 3
   },
   "file_extension": ".py",
   "mimetype": "text/x-python",
   "name": "python",
   "nbconvert_exporter": "python",
   "pygments_lexer": "ipython3",
   "version": "3.12.5"
  }
 },
 "nbformat": 4,
 "nbformat_minor": 2
}
