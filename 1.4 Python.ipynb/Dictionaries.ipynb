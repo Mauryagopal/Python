{
 "cells": [
  {
   "cell_type": "markdown",
   "metadata": {},
   "source": [
    "Dictornary \n",
    " \n",
    "Dictionaries are unordered collections of items. they store data in key -value pairs .key must be unique and immutable.while value can be any type.\n"
   ]
  },
  {
   "cell_type": "code",
   "execution_count": 1,
   "metadata": {},
   "outputs": [
    {
     "name": "stdout",
     "output_type": "stream",
     "text": [
      "<class 'dict'>\n"
     ]
    }
   ],
   "source": [
    "## creating dictornary\n",
    "empty_dict={}\n",
    "print(type(empty_dict))\n"
   ]
  },
  {
   "cell_type": "code",
   "execution_count": 2,
   "metadata": {},
   "outputs": [
    {
     "data": {
      "text/plain": [
       "{}"
      ]
     },
     "execution_count": 2,
     "metadata": {},
     "output_type": "execute_result"
    }
   ],
   "source": [
    "empty_dict=dict()\n",
    "empty_dict"
   ]
  },
  {
   "cell_type": "code",
   "execution_count": 4,
   "metadata": {},
   "outputs": [
    {
     "name": "stdout",
     "output_type": "stream",
     "text": [
      "{'name': 'Gopal', 'age': 19, 'grade': 24}\n",
      "<class 'dict'>\n"
     ]
    }
   ],
   "source": [
    "student ={\"name\":\"Gopal\",\"age\":19,\"grade\":24}\n",
    "print(student)\n",
    "print(type(student))"
   ]
  },
  {
   "cell_type": "code",
   "execution_count": null,
   "metadata": {},
   "outputs": [
    {
     "name": "stdout",
     "output_type": "stream",
     "text": [
      "{'name': 24, 'age': 19}\n",
      "<class 'dict'>\n"
     ]
    }
   ],
   "source": [
    "# error or single key alwyas used\n",
    "student ={\"name\":\"Gopal\",\"age\":19,\"grade\":24}\n",
    "print(student)\n",
    "print(type(student))"
   ]
  },
  {
   "cell_type": "code",
   "execution_count": 6,
   "metadata": {},
   "outputs": [
    {
     "name": "stdout",
     "output_type": "stream",
     "text": [
      "{'name': 'Gopal', 'age': 19, 'grade': 'A'}\n"
     ]
    }
   ],
   "source": [
    "## accessing dictonary element\n",
    "student ={\"name\":\"Gopal\",\"age\":19,\"grade\":'A'}\n",
    "print(student)"
   ]
  },
  {
   "cell_type": "code",
   "execution_count": 11,
   "metadata": {},
   "outputs": [
    {
     "name": "stdout",
     "output_type": "stream",
     "text": [
      "A\n",
      "19\n",
      "A\n",
      "None\n",
      "not availbe\n"
     ]
    }
   ],
   "source": [
    "##accessing dict element\n",
    "print(student['grade'])\n",
    "print(student['age'])\n",
    "\n",
    "## accessing using get() method\n",
    "print(student.get('grade'))\n",
    "print(student.get('last_name'))\n",
    "print(student.get('last_name',\"not availbe\"))"
   ]
  },
  {
   "cell_type": "code",
   "execution_count": 12,
   "metadata": {},
   "outputs": [
    {
     "name": "stdout",
     "output_type": "stream",
     "text": [
      "{'name': 'Gopal', 'age': 19, 'grade': 'A'}\n"
     ]
    }
   ],
   "source": [
    "## Modifying Dict elements\n",
    "## Dict are mutable, so you can add ,update or delete elements\n",
    "print(student)"
   ]
  },
  {
   "cell_type": "code",
   "execution_count": null,
   "metadata": {},
   "outputs": [
    {
     "name": "stdout",
     "output_type": "stream",
     "text": [
      "{'name': 'Gopal', 'age': 33, 'grade': 'A'}\n",
      "{'name': 'Gopal', 'age': 33, 'grade': 'A', 'adress': 'India'}\n"
     ]
    }
   ],
   "source": [
    "student['age']=33 ## updated the value \n",
    "print(student)\n",
    "student[\"adress\"]=\"India\" ## added a new key and value\n",
    "print(student)"
   ]
  },
  {
   "cell_type": "code",
   "execution_count": 14,
   "metadata": {},
   "outputs": [
    {
     "name": "stdout",
     "output_type": "stream",
     "text": [
      "{'name': 'Gopal', 'age': 33, 'adress': 'India'}\n"
     ]
    }
   ],
   "source": [
    "## delete the key\n",
    "del student['grade']\n",
    "print(student)"
   ]
  },
  {
   "cell_type": "code",
   "execution_count": 17,
   "metadata": {},
   "outputs": [
    {
     "name": "stdout",
     "output_type": "stream",
     "text": [
      "dict_keys(['name', 'age', 'adress'])\n",
      "dict_values(['Gopal', 33, 'India'])\n",
      "dict_items([('name', 'Gopal'), ('age', 33), ('adress', 'India')])\n"
     ]
    }
   ],
   "source": [
    "## Dictionary methods\n",
    "keys=student.keys() ## get all keys\n",
    "print(keys)\n",
    "values=student.values()  ## get all the value\n",
    "print(values)\n",
    "items=student.items()   #all key value pairs\n",
    "print(items)"
   ]
  },
  {
   "cell_type": "code",
   "execution_count": 19,
   "metadata": {},
   "outputs": [
    {
     "name": "stdout",
     "output_type": "stream",
     "text": [
      "{'name': 'Gopal', 'age': 33, 'adress': 'India'}\n",
      "{'name': 'Gopal', 'age': 33, 'adress': 'India'}\n"
     ]
    }
   ],
   "source": [
    "## shallow copy\n",
    "student_copy=student\n",
    "print(student)\n",
    "print(student_copy)"
   ]
  },
  {
   "cell_type": "code",
   "execution_count": 21,
   "metadata": {},
   "outputs": [
    {
     "name": "stdout",
     "output_type": "stream",
     "text": [
      "{'name': 'Gopal2', 'age': 33, 'adress': 'India'}\n",
      "{'name': 'Gopal2', 'age': 33, 'adress': 'India'}\n"
     ]
    }
   ],
   "source": [
    "student[\"name\"]=\"Gopal2\"\n",
    "print(student)\n",
    "print(student_copy)"
   ]
  },
  {
   "cell_type": "code",
   "execution_count": 23,
   "metadata": {},
   "outputs": [
    {
     "name": "stdout",
     "output_type": "stream",
     "text": [
      "{'name': 'Gopal2', 'age': 33, 'adress': 'India'}\n",
      "{'name': 'Gopal2', 'age': 33, 'adress': 'India'}\n"
     ]
    }
   ],
   "source": [
    "student_copy1=student.copy()   ##shallow copy\n",
    "print(student_copy1)\n",
    "print(student)\n"
   ]
  },
  {
   "cell_type": "code",
   "execution_count": 25,
   "metadata": {},
   "outputs": [
    {
     "name": "stdout",
     "output_type": "stream",
     "text": [
      "{'name': 'Gopal3', 'age': 33, 'adress': 'India'}\n",
      "{'name': 'Gopal3', 'age': 33, 'adress': 'India'}\n",
      "{'name': 'Gopal2', 'age': 33, 'adress': 'India'}\n"
     ]
    }
   ],
   "source": [
    "student[\"name\"]=\"Gopal3\"\n",
    "print(student)\n",
    "print(student_copy)\n",
    "print(student_copy1)"
   ]
  },
  {
   "cell_type": "code",
   "execution_count": 26,
   "metadata": {},
   "outputs": [
    {
     "name": "stdout",
     "output_type": "stream",
     "text": [
      "name\n",
      "age\n",
      "adress\n"
     ]
    }
   ],
   "source": [
    "### iterarting over dictonary\n",
    "## we can use the loops to iterate over dict ,key ,values,items\n",
    "\n",
    "##Iterating over keys\n",
    "for keys in student.keys():\n",
    "    print(keys)"
   ]
  },
  {
   "cell_type": "code",
   "execution_count": 27,
   "metadata": {},
   "outputs": [
    {
     "name": "stdout",
     "output_type": "stream",
     "text": [
      "Gopal3\n",
      "33\n",
      "India\n"
     ]
    }
   ],
   "source": [
    "## itreate over the vlues \n",
    "for value in student.values():\n",
    "    print(value)"
   ]
  },
  {
   "cell_type": "code",
   "execution_count": 29,
   "metadata": {},
   "outputs": [
    {
     "name": "stdout",
     "output_type": "stream",
     "text": [
      "name:Gopal3\n",
      "age:33\n",
      "adress:India\n"
     ]
    }
   ],
   "source": [
    "## iterate over key vlues pairs\n",
    "for keys,values in student.items():\n",
    "    print(f\"{keys}:{values}\")"
   ]
  },
  {
   "cell_type": "code",
   "execution_count": 31,
   "metadata": {},
   "outputs": [
    {
     "name": "stdout",
     "output_type": "stream",
     "text": [
      "{'student1': {'name': 'Gopal', 'age': 19}, 'student2': {'name': 'gaurav', 'age': 20}}\n"
     ]
    }
   ],
   "source": [
    "## Nested Dict\n",
    "student={\n",
    "    \"student1\":{\"name\":\"Gopal\",\"age\":19},\n",
    "    \"student2\":{\"name\":\"gaurav\",\"age\":20}\n",
    "}\n",
    "print(student)"
   ]
  },
  {
   "cell_type": "code",
   "execution_count": 32,
   "metadata": {},
   "outputs": [
    {
     "name": "stdout",
     "output_type": "stream",
     "text": [
      "gaurav\n",
      "20\n"
     ]
    }
   ],
   "source": [
    "## acess the nested dict elements\n",
    "print(student[\"student2\"][\"name\"])\n",
    "print(student[\"student2\"][\"age\"])"
   ]
  },
  {
   "cell_type": "code",
   "execution_count": 33,
   "metadata": {},
   "outputs": [
    {
     "data": {
      "text/plain": [
       "dict_items([('student1', {'name': 'Gopal', 'age': 19}), ('student2', {'name': 'gaurav', 'age': 20})])"
      ]
     },
     "execution_count": 33,
     "metadata": {},
     "output_type": "execute_result"
    }
   ],
   "source": [
    "student.items()\n"
   ]
  },
  {
   "cell_type": "code",
   "execution_count": null,
   "metadata": {},
   "outputs": [
    {
     "name": "stdout",
     "output_type": "stream",
     "text": [
      "student1:{'name': 'Gopal', 'age': 19}\n",
      "name:Gopal\n",
      "age:19\n",
      "student2:{'name': 'gaurav', 'age': 20}\n",
      "name:gaurav\n",
      "age:20\n"
     ]
    }
   ],
   "source": [
    "## Itreating over nested dict \n",
    "for student_id,student_info in student.items():\n",
    "    print(f\"{student_id}:{student_info}\")\n",
    "    for key,value in student_info.items():\n",
    "        print(f\"{key}:{value}\")\n",
    "     \n",
    "    "
   ]
  },
  {
   "cell_type": "code",
   "execution_count": 35,
   "metadata": {},
   "outputs": [
    {
     "name": "stdout",
     "output_type": "stream",
     "text": [
      "{0: 0, 1: 1, 2: 4, 3: 9, 4: 16}\n"
     ]
    }
   ],
   "source": [
    "## dict comhrehension \n",
    "square={x:x**2 for x in range(5)}\n",
    "print(square)"
   ]
  },
  {
   "cell_type": "code",
   "execution_count": 37,
   "metadata": {},
   "outputs": [
    {
     "name": "stdout",
     "output_type": "stream",
     "text": [
      "{0: 0, 2: 4, 4: 16, 6: 36, 8: 64}\n"
     ]
    }
   ],
   "source": [
    "## conditional dict comhrehension\n",
    "evens={x:x**2 for x in range(10) if x%2==0}\n",
    "print(evens)"
   ]
  },
  {
   "cell_type": "code",
   "execution_count": 41,
   "metadata": {},
   "outputs": [
    {
     "name": "stdout",
     "output_type": "stream",
     "text": [
      "{1: 1, 2: 2, 3: 3, 4: 4}\n"
     ]
    }
   ],
   "source": [
    "## pracital example\n",
    "\n",
    "## use a dict to count the frequency of elemnts in list\n",
    "numbers=[1,2,2,3,3,3,4,4,4,4]\n",
    "frequecy={}\n",
    "\n",
    "for number in numbers:\n",
    "    if number in frequecy:\n",
    "        frequecy[number]+=1\n",
    "    else :\n",
    "        frequecy[number]=1\n",
    "print(frequecy)            \n"
   ]
  },
  {
   "cell_type": "code",
   "execution_count": 42,
   "metadata": {},
   "outputs": [
    {
     "name": "stdout",
     "output_type": "stream",
     "text": [
      "{'a': 1, 'b': 3, 'c': 4}\n"
     ]
    }
   ],
   "source": [
    "## merge 2 dict into one\n",
    "dict1={\"a\":1,\"b\":2}\n",
    "dict2={\"b\":3,\"c\":4}\n",
    "merge_dict={**dict1,**dict2}\n",
    "print(merge_dict)"
   ]
  },
  {
   "cell_type": "code",
   "execution_count": null,
   "metadata": {},
   "outputs": [],
   "source": []
  }
 ],
 "metadata": {
  "kernelspec": {
   "display_name": "venv",
   "language": "python",
   "name": "python3"
  },
  "language_info": {
   "codemirror_mode": {
    "name": "ipython",
    "version": 3
   },
   "file_extension": ".py",
   "mimetype": "text/x-python",
   "name": "python",
   "nbconvert_exporter": "python",
   "pygments_lexer": "ipython3",
   "version": "3.12.5"
  }
 },
 "nbformat": 4,
 "nbformat_minor": 2
}
